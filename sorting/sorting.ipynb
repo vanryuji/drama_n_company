{
  "nbformat": 4,
  "nbformat_minor": 0,
  "metadata": {
    "colab": {
      "name": "sorting.ipynb",
      "version": "0.3.2",
      "provenance": [],
      "include_colab_link": true
    },
    "kernelspec": {
      "name": "python3",
      "display_name": "Python 3"
    }
  },
  "cells": [
    {
      "cell_type": "markdown",
      "metadata": {
        "id": "view-in-github",
        "colab_type": "text"
      },
      "source": [
        "<a href=\"https://colab.research.google.com/github/vanryuji/etc/blob/master/sorting/sorting.ipynb\" target=\"_parent\"><img src=\"https://colab.research.google.com/assets/colab-badge.svg\" alt=\"Open In Colab\"/></a>"
      ]
    },
    {
      "cell_type": "code",
      "metadata": {
        "id": "iPNUAo-d-5se",
        "colab_type": "code",
        "colab": {}
      },
      "source": [
        "def swap(arr, i, j):\n",
        "    tmp = arr[i]\n",
        "    arr[i] = arr[j]\n",
        "    arr[j] = tmp"
      ],
      "execution_count": 0,
      "outputs": []
    },
    {
      "cell_type": "code",
      "metadata": {
        "id": "-QOtXXGpEuAM",
        "colab_type": "code",
        "outputId": "1f35f56e-13fe-4b91-a248-05e414f63384",
        "colab": {
          "base_uri": "https://localhost:8080/",
          "height": 34
        }
      },
      "source": [
        "### Bubble sort ##\n",
        "\n",
        "arr = [5, 4, 3, 2, 1]\n",
        "# arr = [1, 2, 3, 4, 5]\n",
        "# arr = [3, 6, 1, 2, 7]\n",
        "# arr = [7, 6, 1, 2, 3]\n",
        "arr_len = len(arr)\n",
        "\n",
        "for i in range(1, arr_len):\n",
        "    for j in range(arr_len-i):\n",
        "        if arr[j] > arr[j+1]:\n",
        "            swap(arr, j, j+1)\n",
        "            \n",
        "print(arr)"
      ],
      "execution_count": 9,
      "outputs": [
        {
          "output_type": "stream",
          "text": [
            "[1, 2, 3, 4, 5]\n"
          ],
          "name": "stdout"
        }
      ]
    },
    {
      "cell_type": "code",
      "metadata": {
        "id": "ejnjHryE4X4W",
        "colab_type": "code",
        "outputId": "51c10b5e-19e1-4c76-e782-5c9f8403b3d7",
        "colab": {
          "base_uri": "https://localhost:8080/",
          "height": 34
        }
      },
      "source": [
        "### Selection sort ##\n",
        "\n",
        "arr = [5, 4, 3, 2, 1]\n",
        "# arr = [1, 2, 3, 4, 5]\n",
        "# arr = [3, 6, 1, 2, 7]\n",
        "# arr = [7, 6, 1, 2, 3]\n",
        "arr_len = len(arr)\n",
        "\n",
        "for i in range(arr_len-1):\n",
        "    min_idx = i\n",
        "    for j in range(i+1, arr_len):\n",
        "        if arr[min_idx] > arr[j]:\n",
        "            min_idx = j\n",
        "    swap(arr, min_idx, i)\n",
        "\n",
        "print(arr)"
      ],
      "execution_count": 16,
      "outputs": [
        {
          "output_type": "stream",
          "text": [
            "[1, 2, 3, 4, 5]\n"
          ],
          "name": "stdout"
        }
      ]
    },
    {
      "cell_type": "code",
      "metadata": {
        "id": "tliVbAusGpok",
        "colab_type": "code",
        "outputId": "fd5d03d4-45e4-418d-c80d-5c9bdb7f68ed",
        "colab": {
          "base_uri": "https://localhost:8080/",
          "height": 34
        }
      },
      "source": [
        "### Insertion sort ##\n",
        "\n",
        "arr = [5, 4, 3, 2, 1]\n",
        "# arr = [1, 2, 3, 4, 5]\n",
        "# arr = [3, 6, 1, 2, 7]\n",
        "# arr = [7, 6, 1, 2, 3]\n",
        "arr_len = len(arr)\n",
        "\n",
        "for i in range(arr_len):\n",
        "    for j in range(i, 0, -1):\n",
        "        if arr[j-1] > arr[j]:\n",
        "            swap(arr, j-1, j)\n",
        "        else:\n",
        "            break\n",
        "            \n",
        "print(arr)"
      ],
      "execution_count": 24,
      "outputs": [
        {
          "output_type": "stream",
          "text": [
            "[1, 2, 3, 4, 5]\n"
          ],
          "name": "stdout"
        }
      ]
    },
    {
      "cell_type": "code",
      "metadata": {
        "id": "y-0BawCfmlQ7",
        "colab_type": "code",
        "outputId": "655a7467-7f68-46f0-880f-1675b97149d4",
        "colab": {
          "base_uri": "https://localhost:8080/",
          "height": 34
        }
      },
      "source": [
        "### Merge sort ###\n",
        "\n",
        "arr = [5, 4, 3, 2, 1]\n",
        "# arr = [1, 2, 3, 4, 5]\n",
        "# arr = [3, 6, 1, 2, 7]\n",
        "# arr = [7, 6, 1, 2, 3]\n",
        "\n",
        "def sort(arr):\n",
        "    if len(arr) == 1:\n",
        "        return\n",
        "    \n",
        "    mid = len(arr) // 2\n",
        "    l_arr = arr[:mid]\n",
        "    r_arr = arr[mid:]\n",
        "    \n",
        "    sort(l_arr)\n",
        "    sort(r_arr)\n",
        "    \n",
        "    r = l = i = 0\n",
        "    while l < len(l_arr) and r < len(r_arr):\n",
        "        if l_arr[l] < r_arr[r]:\n",
        "            arr[i] = l_arr[l]\n",
        "            l += 1\n",
        "        else:\n",
        "            arr[i] = r_arr[r]\n",
        "            r += 1\n",
        "        i += 1\n",
        "        \n",
        "    while l < len(l_arr):\n",
        "        arr[i] = l_arr[l]\n",
        "        l += 1\n",
        "        i += 1\n",
        "        \n",
        "    while r < len(r_arr):\n",
        "        arr[i] = r_arr[r]\n",
        "        r += 1\n",
        "        i += 1\n",
        "        \n",
        "sort(arr)\n",
        "print(arr)"
      ],
      "execution_count": 36,
      "outputs": [
        {
          "output_type": "stream",
          "text": [
            "[1, 2, 3, 4, 5]\n"
          ],
          "name": "stdout"
        }
      ]
    },
    {
      "cell_type": "code",
      "metadata": {
        "id": "g42mFgDLnzNb",
        "colab_type": "code",
        "outputId": "85538f15-0af4-4c8d-db6d-6b88bde3e79d",
        "colab": {
          "base_uri": "https://localhost:8080/",
          "height": 34
        }
      },
      "source": [
        "### Quick sort ###\n",
        "\n",
        "arr = [5, 4, 3, 2, 1]\n",
        "# arr = [1, 2, 3, 4, 5]\n",
        "# arr = [3, 6, 1, 2, 7]\n",
        "# arr = [7, 6, 1, 2, 3]\n",
        "\n",
        "def position(arr, start, end):\n",
        "    piv = arr[start]\n",
        "    i = start + 1\n",
        "    for j in range(start+1, end+1):\n",
        "        if piv > arr[j]:\n",
        "            swap(arr, i, j)\n",
        "            i += 1\n",
        "    swap(arr, start, i-1)\n",
        "    return i - 1\n",
        "    \n",
        "\n",
        "def sort(arr, start, end):\n",
        "    if start < end:\n",
        "        piv = position(arr, start, end)\n",
        "        sort(arr, start, piv-1)\n",
        "        sort(arr, piv+1, end)\n",
        "\n",
        "sort(arr, 0, len(arr)-1)\n",
        "print(arr)"
      ],
      "execution_count": 44,
      "outputs": [
        {
          "output_type": "stream",
          "text": [
            "[1, 2, 3, 6, 7]\n"
          ],
          "name": "stdout"
        }
      ]
    }
  ]
}