{
  "nbformat": 4,
  "nbformat_minor": 0,
  "metadata": {
    "colab": {
      "name": "hobby_matching.ipynb",
      "provenance": [],
      "toc_visible": true,
      "include_colab_link": true
    },
    "kernelspec": {
      "name": "python3",
      "display_name": "Python 3"
    }
  },
  "cells": [
    {
      "cell_type": "markdown",
      "metadata": {
        "id": "view-in-github",
        "colab_type": "text"
      },
      "source": [
        "<a href=\"https://colab.research.google.com/github/vanryuji/etc/blob/master/birdview/hobby_matching.ipynb\" target=\"_parent\"><img src=\"https://colab.research.google.com/assets/colab-badge.svg\" alt=\"Open In Colab\"/></a>"
      ]
    },
    {
      "cell_type": "markdown",
      "metadata": {
        "id": "NM35rMj_5NkX",
        "colab_type": "text"
      },
      "source": [
        "# Download user data"
      ]
    },
    {
      "cell_type": "code",
      "metadata": {
        "id": "js-8fQ9h5BQq",
        "colab_type": "code",
        "colab": {
          "base_uri": "https://localhost:8080/",
          "height": 867
        },
        "outputId": "be2d6a87-2d64-4ffa-83e1-4280b6440b58"
      },
      "source": [
        "!rm -f *.txt\n",
        "!wget https://raw.githubusercontent.com/vanryuji/etc/master/birdview/500000.txt\n",
        "!wget https://raw.githubusercontent.com/vanryuji/etc/master/birdview/10000.txt\n",
        "!wget https://raw.githubusercontent.com/vanryuji/etc/master/birdview/100.txt\n",
        "!wget https://raw.githubusercontent.com/vanryuji/etc/master/birdview/test.txt\n",
        "!ls -l"
      ],
      "execution_count": 10,
      "outputs": [
        {
          "output_type": "stream",
          "text": [
            "--2019-09-24 02:29:38--  https://raw.githubusercontent.com/vanryuji/etc/master/birdview/500000.txt\n",
            "Resolving raw.githubusercontent.com (raw.githubusercontent.com)... 151.101.0.133, 151.101.64.133, 151.101.128.133, ...\n",
            "Connecting to raw.githubusercontent.com (raw.githubusercontent.com)|151.101.0.133|:443... connected.\n",
            "HTTP request sent, awaiting response... 200 OK\n",
            "Length: 10500006 (10M) [text/plain]\n",
            "Saving to: ‘500000.txt’\n",
            "\n",
            "\r500000.txt            0%[                    ]       0  --.-KB/s               \r500000.txt          100%[===================>]  10.01M  --.-KB/s    in 0.1s    \n",
            "\n",
            "2019-09-24 02:29:39 (94.5 MB/s) - ‘500000.txt’ saved [10500006/10500006]\n",
            "\n",
            "--2019-09-24 02:29:40--  https://raw.githubusercontent.com/vanryuji/etc/master/birdview/10000.txt\n",
            "Resolving raw.githubusercontent.com (raw.githubusercontent.com)... 151.101.0.133, 151.101.64.133, 151.101.128.133, ...\n",
            "Connecting to raw.githubusercontent.com (raw.githubusercontent.com)|151.101.0.133|:443... connected.\n",
            "HTTP request sent, awaiting response... 200 OK\n",
            "Length: 200005 (195K) [text/plain]\n",
            "Saving to: ‘10000.txt’\n",
            "\n",
            "10000.txt           100%[===================>] 195.32K  --.-KB/s    in 0.03s   \n",
            "\n",
            "2019-09-24 02:29:40 (5.78 MB/s) - ‘10000.txt’ saved [200005/200005]\n",
            "\n",
            "--2019-09-24 02:29:41--  https://raw.githubusercontent.com/vanryuji/etc/master/birdview/100.txt\n",
            "Resolving raw.githubusercontent.com (raw.githubusercontent.com)... 151.101.0.133, 151.101.64.133, 151.101.128.133, ...\n",
            "Connecting to raw.githubusercontent.com (raw.githubusercontent.com)|151.101.0.133|:443... connected.\n",
            "HTTP request sent, awaiting response... 200 OK\n",
            "Length: 2003 (2.0K) [text/plain]\n",
            "Saving to: ‘100.txt’\n",
            "\n",
            "100.txt             100%[===================>]   1.96K  --.-KB/s    in 0s      \n",
            "\n",
            "2019-09-24 02:29:41 (45.6 MB/s) - ‘100.txt’ saved [2003/2003]\n",
            "\n",
            "--2019-09-24 02:29:43--  https://raw.githubusercontent.com/vanryuji/etc/master/birdview/test.txt\n",
            "Resolving raw.githubusercontent.com (raw.githubusercontent.com)... 151.101.0.133, 151.101.64.133, 151.101.128.133, ...\n",
            "Connecting to raw.githubusercontent.com (raw.githubusercontent.com)|151.101.0.133|:443... connected.\n",
            "HTTP request sent, awaiting response... 200 OK\n",
            "Length: 103 [text/plain]\n",
            "Saving to: ‘test.txt’\n",
            "\n",
            "test.txt            100%[===================>]     103  --.-KB/s    in 0s      \n",
            "\n",
            "2019-09-24 02:29:43 (24.4 MB/s) - ‘test.txt’ saved [103/103]\n",
            "\n",
            "total 10464\n",
            "-rw-r--r-- 1 root root   200005 Sep 24 02:29 10000.txt\n",
            "-rw-r--r-- 1 root root     2003 Sep 24 02:29 100.txt\n",
            "-rw-r--r-- 1 root root 10500006 Sep 24 02:29 500000.txt\n",
            "drwxr-xr-x 1 root root     4096 Aug 27 16:17 sample_data\n",
            "-rw-r--r-- 1 root root      103 Sep 24 02:29 test.txt\n"
          ],
          "name": "stdout"
        }
      ]
    },
    {
      "cell_type": "markdown",
      "metadata": {
        "id": "OioRbWwO5WN-",
        "colab_type": "text"
      },
      "source": [
        "# Import packages"
      ]
    },
    {
      "cell_type": "code",
      "metadata": {
        "id": "YW4GfTdx-7xZ",
        "colab_type": "code",
        "colab": {}
      },
      "source": [
        "import time\n",
        "import numpy as np\n",
        "from sklearn.neighbors import NearestNeighbors"
      ],
      "execution_count": 0,
      "outputs": []
    },
    {
      "cell_type": "markdown",
      "metadata": {
        "id": "cTtfF_q25eqd",
        "colab_type": "text"
      },
      "source": [
        "# Convert user data into multi hot encoding"
      ]
    },
    {
      "cell_type": "code",
      "metadata": {
        "id": "rOykDHBEELrp",
        "colab_type": "code",
        "colab": {}
      },
      "source": [
        "input_file = '500000.txt'\n",
        "input_file = '10000.txt'\n",
        "# input_file = '100.txt'\n",
        "# input_file = 'test.txt'\n",
        "\n",
        "multi_hot_encoding_list = list()\n",
        "with open(input_file) as f:\n",
        "    for line in f:\n",
        "        hobbies = line.strip().split(' ')\n",
        "        if len(hobbies) != 10:\n",
        "            # It's not a hobby\n",
        "            continue\n",
        "        multi_hot_encoding = [0] * 26\n",
        "        for hobby in hobbies:\n",
        "            idx = ord(hobby) % 65  # 65 means 'A'\n",
        "            multi_hot_encoding[idx] = 1\n",
        "        multi_hot_encoding_list.append(multi_hot_encoding)\n",
        "multi_hot_encoding_list = np.array(multi_hot_encoding_list)"
      ],
      "execution_count": 0,
      "outputs": []
    },
    {
      "cell_type": "markdown",
      "metadata": {
        "id": "LIHEhmxl5pYx",
        "colab_type": "text"
      },
      "source": [
        "# Create NearestNeighbor model"
      ]
    },
    {
      "cell_type": "code",
      "metadata": {
        "id": "4mnpNpmD_T9n",
        "colab_type": "code",
        "outputId": "bd57627b-4439-447b-afa3-aae01b32d303",
        "colab": {
          "base_uri": "https://localhost:8080/",
          "height": 34
        }
      },
      "source": [
        "start_time = time.time()\n",
        "\n",
        "nbrs = NearestNeighbors(n_neighbors=2, leaf_size=400000).fit(multi_hot_encoding_list)\n",
        "\n",
        "print('elapsed time:', (time.time()-start_time), 's')"
      ],
      "execution_count": 14,
      "outputs": [
        {
          "output_type": "stream",
          "text": [
            "elapsed time: 0.006711483001708984 s\n"
          ],
          "name": "stdout"
        }
      ]
    },
    {
      "cell_type": "markdown",
      "metadata": {
        "id": "SgxLm7v75vhM",
        "colab_type": "text"
      },
      "source": [
        "# Calculate distances between users"
      ]
    },
    {
      "cell_type": "code",
      "metadata": {
        "id": "0dPpmYRT3vNv",
        "colab_type": "code",
        "colab": {
          "base_uri": "https://localhost:8080/",
          "height": 187
        },
        "outputId": "824f86a7-8b80-4129-d677-c297f8ee43c7"
      },
      "source": [
        "start_time = time.time()\n",
        "\n",
        "distances, indices = nbrs.kneighbors(multi_hot_encoding_list)\n",
        "result = dict()\n",
        "min_distance = distances[0][1]\n",
        "for i, distance in enumerate(distances):\n",
        "    if min_distance >= distance[1]:\n",
        "        if min_distance > distance[1]:\n",
        "            min_distance = distance[1]\n",
        "            result = dict()\n",
        "        idx1, idx2 = (indices[i][0], indices[i][1]) if indices[i][0] < indices[i][1] else (indices[i][1], indices[i][0])\n",
        "        result['{}-{}'.format(idx1, idx2)] = True\n",
        "for r in result.keys():\n",
        "    print(r)\n",
        "\n",
        "print('elapsed time:', (time.time()-start_time), 's')"
      ],
      "execution_count": 15,
      "outputs": [
        {
          "output_type": "stream",
          "text": [
            "332-7188\n",
            "495-8709\n",
            "1400-4202\n",
            "1867-8698\n",
            "2640-7763\n",
            "3231-4303\n",
            "3458-5725\n",
            "3920-7106\n",
            "4191-8574\n",
            "elapsed time: 2.974357843399048 s\n"
          ],
          "name": "stdout"
        }
      ]
    }
  ]
}